{
  "cells": [
    {
      "cell_type": "markdown",
      "metadata": {
        "id": "HA2UUwNglHPJ"
      },
      "source": [
        "___\n",
        "<img style=\"float: right; margin: 0px 0px 15px 15px;\" src=\"https://dinhanhthi.com/img/post/ML/random-forest-decision-tree/r2.jpg\" width=\"350px\" height=\"180px\" />\n",
        "\n",
        "\n",
        "# <font color= #8A0829> Laboratorio de Modelado de Datos </font>\n",
        "#### <font color= #2E9AFE> `Martes y Viernes (Videoconferencia) de 13:00 - 15:00 hrs`</font>\n",
        "- <Strong> Sara Eugenia Rodríguez </Strong>\n",
        "- <Strong> Año </Strong>: 2022\n",
        "- <Strong> Email: </Strong>  <font color=\"blue\"> `cd682324@iteso.mx` </font>\n",
        "___\n",
        "\n",
        "<p style=\"text-align:right;\"> Imagen recuperada de: https://dinhanhthi.com/img/post/ML/random-forest-decision-tree/r2.jpg</p>\n",
        "\n",
        "### <font color= #2E9AFE> Tema: Modelos basados en Árboles</font>"
      ]
    },
    {
      "cell_type": "markdown",
      "metadata": {
        "id": "Yc5URh-ElHPN"
      },
      "source": [
        "Un árbol de decisión es un conjunto de sentencias de la forma: si... entonces...\n",
        "\n",
        "Estas sentencias dividen los datos en una serie de predictores. \n",
        "\n",
        "Estas divisiones de predictores son usadas para estimar la salida del modelo. \n",
        "\n",
        "**Ejemplo:** En un problema con dos predictores 'A' y 'B', un conjunto de sentencias de la forma:\n",
        "\n",
        "Si el predictor 'A' >= 1.7, entonces\n",
        "- Si el predictor B >=200, entonces la predicción = 1.3\n",
        "- De otra forma, la predicción = 2.5\n",
        "\n",
        "Estas sentencias están partiendo los predictores en 3 segmentos donde salidas específicas son definidas. \n",
        "\n",
        "**Estructura del árbol**\n",
        "\n",
        "Toma 3 cosas en cuenta:\n",
        "- Las variables predictoras (X) que se van a usar y el punto de partición del dataset.\n",
        "- La profundidad/complejidad del árbol\n",
        "- La ecuación de predicción en los últimos nodos/hojas del árbol (PROMEDIO)\n",
        "\n",
        "**Hiperparámetros a ajustar**\n",
        "- Profundidad del árbol (max_depth)\n",
        "- Número mínimo de observaciones en cada split(min_samples_split)\n",
        "\n",
        "**Desventajas**\n",
        "\n",
        "- Inestabilidad del modelo: Debido a que las particiones se basan en un conjunto de datos, si se generan cambios en el conjunto de datos, esto genera cambios importantes en la estructura del árbol y especialmente en su interpretabilidad.\n",
        "\n",
        "- Rendimiento predictivo subóptimo. Nuevamente, debido a que las particiones se basan en un conjunto de datos específico, el modelo generalmente no converge con el modelo óptimo global."
      ]
    },
    {
      "cell_type": "code",
      "execution_count": 1,
      "metadata": {
        "id": "dGX6wZ0XlHPP"
      },
      "outputs": [],
      "source": [
        "import numpy as np\n",
        "import matplotlib.pyplot as plt\n",
        "from sklearn.tree import DecisionTreeRegressor"
      ]
    },
    {
      "cell_type": "code",
      "execution_count": 2,
      "metadata": {
        "colab": {
          "base_uri": "https://localhost:8080/",
          "height": 297
        },
        "id": "I5wm3tyflHPR",
        "outputId": "3bc7aaae-c1a9-4b24-ced4-9a2cfef8216a"
      },
      "outputs": [
        {
          "output_type": "display_data",
          "data": {
            "text/plain": [
              "<Figure size 864x288 with 3 Axes>"
            ],
            "image/png": "[encoded data removed]"
          },
          "metadata": {
            "needs_background": "light"
          }
        }
      ],
      "source": [
        "#Generación de datos\n",
        "rng = np.random.RandomState(0)\n",
        "\n",
        "# #############################################################################\n",
        "X = np.zeros((100,3))\n",
        "X[:,0] = 5 * rng.rand(100, 1)[:,0]\n",
        "X[:,1] = 10 * rng.rand(100, 1)[:,0]\n",
        "X[:,2] = 15 * rng.rand(100, 1)[:,0]\n",
        "\n",
        "y = np.ravel(3*X[:,0]-2*X[:,1]+3*X[:,2]-10)\n",
        "# Añadimos ruido a la variable dependiente\n",
        "yrnd = y + 3 * (0.5 - rng.rand(y.shape[0]))\n",
        "\n",
        "\n",
        "plt.figure(figsize=(12,4))\n",
        "plt.subplot(131)\n",
        "plt.scatter(X[:,0], yrnd, c='r', s=10)\n",
        "plt.xlabel('x_p1')\n",
        "plt.ylabel('y')\n",
        "plt.grid()\n",
        "\n",
        "plt.subplot(132)\n",
        "plt.scatter(X[:,1], yrnd, c='r', s=10,zorder=2)\n",
        "plt.xlabel('x_p2')\n",
        "plt.ylabel('y')\n",
        "plt.grid()\n",
        "\n",
        "plt.subplot(133)\n",
        "plt.scatter(X[:,2], yrnd, c='r', s=10, zorder=2)\n",
        "plt.xlabel('x_p3')\n",
        "plt.ylabel('y')\n",
        "plt.grid()\n",
        "\n",
        "plt.tight_layout()\n",
        "plt.show()"
      ]
    },
    {
      "cell_type": "code",
      "execution_count": 3,
      "metadata": {
        "id": "v6zPCy-llHPT"
      },
      "outputs": [],
      "source": [
        "from sklearn.model_selection import train_test_split\n",
        "\n",
        "X_train, X_test, y_train, y_test = train_test_split(X, yrnd, test_size=0.20,\n",
        "                                                    random_state=0,\n",
        "                                                    shuffle=True)"
      ]
    },
    {
      "cell_type": "code",
      "execution_count": 4,
      "metadata": {
        "id": "fqFXhp2QlHPT"
      },
      "outputs": [],
      "source": [
        "from sklearn.metrics import mean_squared_error as mse\n",
        "\n",
        "max_depths = range(1, 20)\n",
        "\n",
        "#para todos los datos\n",
        "training_error = []\n",
        "for max_depth in max_depths:\n",
        "    model_1 = DecisionTreeRegressor(max_depth=max_depth)\n",
        "    model_1.fit(X, yrnd)\n",
        "    training_error.append(mse(yrnd, model_1.predict(X)))\n",
        "    \n",
        "\n",
        "#para el train-test    \n",
        "testing_error = []\n",
        "for max_depth in max_depths:\n",
        "    model_2 = DecisionTreeRegressor(max_depth=max_depth)\n",
        "    model_2.fit(X_train, y_train)\n",
        "    testing_error.append(mse(y_test, model_2.predict(X_test)))\n",
        "\n"
      ]
    },
    {
      "cell_type": "code",
      "execution_count": 5,
      "metadata": {
        "colab": {
          "base_uri": "https://localhost:8080/",
          "height": 324
        },
        "id": "cFHDlT0DlHPU",
        "outputId": "25f79ad5-5313-4632-c1a5-42dbbbd8363c"
      },
      "outputs": [
        {
          "output_type": "execute_result",
          "data": {
            "text/plain": [
              "<matplotlib.legend.Legend at 0x7fa299ad3290>"
            ]
          },
          "metadata": {},
          "execution_count": 5
        },
        {
          "output_type": "display_data",
          "data": {
            "text/plain": [
              "<Figure size 432x288 with 1 Axes>"
            ],
            "image/png": "[encoded data removed]"
          },
          "metadata": {
            "needs_background": "light"
          }
        }
      ],
      "source": [
        "#cómo saber el número óptimo de profundidad?\n",
        "#Una forma es graficando\n",
        "plt.plot(max_depths, training_error, color='blue', label='Training error')\n",
        "plt.plot(max_depths, testing_error, color='green', label='Testing error')\n",
        "plt.xlabel('Tree depth')\n",
        "plt.axvline(x=6, color='orange', linestyle='--')\n",
        "plt.annotate('optimum = 6', xy=(7.5, 1.17), color='red')\n",
        "plt.ylabel('Mean squared error')\n",
        "plt.title('Hyperparameter Tuning', pad=15, size=15)\n",
        "plt.legend()"
      ]
    },
    {
      "cell_type": "code",
      "execution_count": 6,
      "metadata": {
        "colab": {
          "base_uri": "https://localhost:8080/"
        },
        "id": "LkwBg4c9lHPU",
        "outputId": "d122241f-59c4-4320-dbd3-d8528fe3b18f"
      },
      "outputs": [
        {
          "output_type": "stream",
          "name": "stdout",
          "text": [
            "{'max_depth': 6, 'min_samples_split': 10}\n"
          ]
        }
      ],
      "source": [
        "#Usando cross validation y grid search\n",
        "from sklearn.model_selection import GridSearchCV\n",
        "\n",
        "model = DecisionTreeRegressor()\n",
        "\n",
        "gs = GridSearchCV(model,\n",
        "                  param_grid = {'max_depth': range(1, 11),\n",
        "                                'min_samples_split': range(10, 60, 10)},\n",
        "                  cv=5, #CROSSVALIDATION\n",
        "                  scoring='neg_mean_squared_error')\n",
        "\n",
        "gs.fit(X_train, y_train) #ENTRENO\n",
        "\n",
        "print(gs.best_params_) #PARAMETROS OPTIMOS"
      ]
    },
    {
      "cell_type": "code",
      "execution_count": 7,
      "metadata": {
        "colab": {
          "base_uri": "https://localhost:8080/"
        },
        "id": "B_i78uNxlHPV",
        "outputId": "961ab3a7-24f6-4f78-eddb-5355ce7e4009"
      },
      "outputs": [
        {
          "output_type": "execute_result",
          "data": {
            "text/plain": [
              "DecisionTreeRegressor(max_depth=6, min_samples_split=10)"
            ]
          },
          "metadata": {},
          "execution_count": 7
        }
      ],
      "source": [
        "#crear modelo usando parámetros óptimos\n",
        "new_model = DecisionTreeRegressor(max_depth=6,\n",
        "                                  min_samples_split=10)\n",
        "new_model.fit(X_train, y_train)"
      ]
    },
    {
      "cell_type": "code",
      "execution_count": 8,
      "metadata": {
        "colab": {
          "base_uri": "https://localhost:8080/"
        },
        "id": "8kbL_mmnlHPW",
        "outputId": "b8147c07-3165-42e6-904b-ef058acf65bf"
      },
      "outputs": [
        {
          "output_type": "stream",
          "name": "stdout",
          "text": [
            "R2: 0.8550640453787186\n"
          ]
        }
      ],
      "source": [
        "from sklearn.metrics import r2_score\n",
        "yhat = new_model.predict(X_test)\n",
        "R2_score = r2_score(y_test,yhat)\n",
        "print('R2:', R2_score)"
      ]
    },
    {
      "cell_type": "code",
      "execution_count": 9,
      "metadata": {
        "colab": {
          "base_uri": "https://localhost:8080/"
        },
        "id": "cJ4f67GslHPW",
        "outputId": "de387f66-8316-4a3b-cfbe-e8d07580076b"
      },
      "outputs": [
        {
          "output_type": "stream",
          "name": "stdout",
          "text": [
            "MSE: 45.964639340970756\n"
          ]
        }
      ],
      "source": [
        "from sklearn.metrics import mean_squared_error\n",
        "MSE_score = mean_squared_error(y_test,yhat)\n",
        "print('MSE:', MSE_score)"
      ]
    },
    {
      "cell_type": "code",
      "execution_count": 10,
      "metadata": {
        "colab": {
          "base_uri": "https://localhost:8080/"
        },
        "id": "fE8TmMFvlHPW",
        "outputId": "44fd5997-ff48-4d06-e8cb-9ec4cb5c9e05"
      },
      "outputs": [
        {
          "output_type": "execute_result",
          "data": {
            "text/plain": [
              "array([0.03036709, 0.10983883, 0.85979408])"
            ]
          },
          "metadata": {},
          "execution_count": 10
        }
      ],
      "source": [
        "#ver importancia de las variables #importancia var1, var2, var3\n",
        "new_model.feature_importances_"
      ]
    },
    {
      "cell_type": "code",
      "execution_count": 11,
      "metadata": {
        "colab": {
          "base_uri": "https://localhost:8080/",
          "height": 746
        },
        "id": "TTyF1VPilHPX",
        "outputId": "ca35b2b4-ebe7-4a8e-ada0-cff15df8818b"
      },
      "outputs": [
        {
          "output_type": "execute_result",
          "data": {
            "text/plain": [
              "[Text(0.5277777777777778, 0.9285714285714286, 'X[2] <= 7.715\\nsquared_error = 237.641\\nsamples = 80\\nvalue = 9.797'),\n",
              " Text(0.2777777777777778, 0.7857142857142857, 'X[2] <= 3.156\\nsquared_error = 91.399\\nsamples = 40\\nvalue = -2.229'),\n",
              " Text(0.1111111111111111, 0.6428571428571429, 'X[1] <= 4.106\\nsquared_error = 45.517\\nsamples = 16\\nvalue = -10.846'),\n",
              " Text(0.05555555555555555, 0.5, 'squared_error = 10.568\\nsamples = 5\\nvalue = -2.909'),\n",
              " Text(0.16666666666666666, 0.5, 'X[1] <= 7.719\\nsquared_error = 19.744\\nsamples = 11\\nvalue = -14.455'),\n",
              " Text(0.1111111111111111, 0.35714285714285715, 'squared_error = 4.224\\nsamples = 7\\nvalue = -12.174'),\n",
              " Text(0.2222222222222222, 0.35714285714285715, 'squared_error = 21.87\\nsamples = 4\\nvalue = -18.446'),\n",
              " Text(0.4444444444444444, 0.6428571428571429, 'X[1] <= 6.655\\nsquared_error = 39.467\\nsamples = 24\\nvalue = 3.517'),\n",
              " Text(0.3888888888888889, 0.5, 'X[1] <= 3.499\\nsquared_error = 15.55\\nsamples = 15\\nvalue = 6.857'),\n",
              " Text(0.3333333333333333, 0.35714285714285715, 'squared_error = 17.729\\nsamples = 7\\nvalue = 9.215'),\n",
              " Text(0.4444444444444444, 0.35714285714285715, 'squared_error = 4.519\\nsamples = 8\\nvalue = 4.793'),\n",
              " Text(0.5, 0.5, 'squared_error = 29.75\\nsamples = 9\\nvalue = -2.05'),\n",
              " Text(0.7777777777777778, 0.7857142857142857, 'X[2] <= 13.024\\nsquared_error = 94.655\\nsamples = 40\\nvalue = 21.823'),\n",
              " Text(0.6666666666666666, 0.6428571428571429, 'X[0] <= 3.897\\nsquared_error = 56.681\\nsamples = 26\\nvalue = 17.319'),\n",
              " Text(0.6111111111111112, 0.5, 'X[1] <= 3.25\\nsquared_error = 37.177\\nsamples = 21\\nvalue = 15.089'),\n",
              " Text(0.5555555555555556, 0.35714285714285715, 'squared_error = 12.716\\nsamples = 5\\nvalue = 21.854'),\n",
              " Text(0.6666666666666666, 0.35714285714285715, 'X[1] <= 9.123\\nsquared_error = 26.046\\nsamples = 16\\nvalue = 12.974'),\n",
              " Text(0.6111111111111112, 0.21428571428571427, 'X[2] <= 9.607\\nsquared_error = 18.691\\nsamples = 14\\nvalue = 14.094'),\n",
              " Text(0.5555555555555556, 0.07142857142857142, 'squared_error = 15.603\\nsamples = 7\\nvalue = 11.297'),\n",
              " Text(0.6666666666666666, 0.07142857142857142, 'squared_error = 6.129\\nsamples = 7\\nvalue = 16.892'),\n",
              " Text(0.7222222222222222, 0.21428571428571427, 'squared_error = 7.262\\nsamples = 2\\nvalue = 5.133'),\n",
              " Text(0.7222222222222222, 0.5, 'squared_error = 29.987\\nsamples = 5\\nvalue = 26.685'),\n",
              " Text(0.8888888888888888, 0.6428571428571429, 'X[1] <= 7.633\\nsquared_error = 57.537\\nsamples = 14\\nvalue = 30.187'),\n",
              " Text(0.8333333333333334, 0.5, 'X[2] <= 14.511\\nsquared_error = 30.836\\nsamples = 11\\nvalue = 33.134'),\n",
              " Text(0.7777777777777778, 0.35714285714285715, 'squared_error = 8.803\\nsamples = 8\\nvalue = 30.458'),\n",
              " Text(0.8888888888888888, 0.35714285714285715, 'squared_error = 19.592\\nsamples = 3\\nvalue = 40.269'),\n",
              " Text(0.9444444444444444, 0.5, 'squared_error = 6.84\\nsamples = 3\\nvalue = 19.382')]"
            ]
          },
          "metadata": {},
          "execution_count": 11
        },
        {
          "output_type": "display_data",
          "data": {
            "text/plain": [
              "<Figure size 432x288 with 1 Axes>"
            ],
            "image/png": "[encoded data removed]"
          },
          "metadata": {
            "needs_background": "light"
          }
        }
      ],
      "source": [
        "from sklearn import tree\n",
        "tree.plot_tree(new_model) "
      ]
    },
    {
      "cell_type": "code",
      "execution_count": 12,
      "metadata": {
        "id": "DSQLmqB8lHPX"
      },
      "outputs": [],
      "source": [
        "#correr en jupyter notebook:\n",
        "#pip install graphviz\n",
        "\n",
        "#correr en la consola de anaconda\n",
        "#conda install python-graphviz"
      ]
    },
    {
      "cell_type": "code",
      "execution_count": 12,
      "metadata": {
        "id": "JCvgFQ5elHPY"
      },
      "outputs": [],
      "source": []
    },
    {
      "cell_type": "markdown",
      "metadata": {
        "id": "WxRUF8BAlHPY"
      },
      "source": [
        "pip install graphviz"
      ]
    },
    {
      "cell_type": "code",
      "execution_count": 13,
      "metadata": {
        "colab": {
          "base_uri": "https://localhost:8080/",
          "height": 36
        },
        "id": "JPtB0os2lHPY",
        "outputId": "4228eccf-09c5-482e-8b0b-51a500b86237"
      },
      "outputs": [
        {
          "output_type": "execute_result",
          "data": {
            "text/plain": [
              "'trees_gen/tree_multipredict.pdf'"
            ],
            "application/vnd.google.colaboratory.intrinsic+json": {
              "type": "string"
            }
          },
          "metadata": {},
          "execution_count": 13
        }
      ],
      "source": [
        "import graphviz\n",
        "dot_data = tree.export_graphviz(new_model, out_file=None)\n",
        "graph = graphviz.Source(dot_data)\n",
        "graph.render(\"trees_gen/tree_multipredict\")"
      ]
    },
    {
      "cell_type": "markdown",
      "metadata": {
        "id": "lfhdHFz9lHPZ"
      },
      "source": [
        "**Ventajas de los árboles de decisión**\n",
        "\n",
        "- No requiere escalamiento de variables\n",
        "- Puede  ser usado para datos no lineales\n",
        "- Fácil de visualizar\n",
        "- Fácil de interpretar\n",
        "\n",
        "**Desventajas de los árboles de decisión**\n",
        "\n",
        "- Es computancionalmente complejo, especialmente al usar cross-validation para ajustar los hiperparámetros\n",
        "- Un cambio pequeño en los datos puede causar grandes cambios en la estructura del árbol"
      ]
    },
    {
      "cell_type": "code",
      "execution_count": null,
      "metadata": {
        "id": "5oL1zm3ylHPZ"
      },
      "outputs": [],
      "source": []
    }
  ],
  "metadata": {
    "kernelspec": {
      "display_name": "Python 3 (ipykernel)",
      "language": "python",
      "name": "python3"
    },
    "language_info": {
      "codemirror_mode": {
        "name": "ipython",
        "version": 3
      },
      "file_extension": ".py",
      "mimetype": "text/x-python",
      "name": "python",
      "nbconvert_exporter": "python",
      "pygments_lexer": "ipython3",
      "version": "3.9.12"
    },
    "colab": {
      "provenance": []
    }
  },
  "nbformat": 4,
  "nbformat_minor": 0
}